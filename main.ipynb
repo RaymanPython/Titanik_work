{
 "cells": [
  {
   "cell_type": "code",
   "execution_count": 71,
   "id": "aa26b6a3",
   "metadata": {},
   "outputs": [
    {
     "name": "stdout",
     "output_type": "stream",
     "text": [
      "   survived  pclass     sex   age  sibsp  parch     fare embarked  class  \\\n",
      "0         0       3    male  22.0      1      0   7.2500        S  Third   \n",
      "1         1       1  female  38.0      1      0  71.2833        C  First   \n",
      "2         1       3  female  26.0      0      0   7.9250        S  Third   \n",
      "3         1       1  female  35.0      1      0  53.1000        S  First   \n",
      "4         0       3    male  35.0      0      0   8.0500        S  Third   \n",
      "\n",
      "     who  adult_male deck  embark_town alive  alone  \n",
      "0    man        True  NaN  Southampton    no  False  \n",
      "1  woman       False    C    Cherbourg   yes  False  \n",
      "2  woman       False  NaN  Southampton   yes   True  \n",
      "3  woman       False    C  Southampton   yes  False  \n",
      "4    man        True  NaN  Southampton    no   True  \n"
     ]
    }
   ],
   "source": [
    "import pandas as pd\n",
    "ratings = pd.read_csv('C:/titanic.csv', delimiter=',')\n",
    "print(ratings.head())\n"
   ]
  },
  {
   "cell_type": "code",
   "execution_count": 16,
   "id": "96db790a",
   "metadata": {},
   "outputs": [
    {
     "name": "stdout",
     "output_type": "stream",
     "text": [
      "     survived  pclass    sex    age  sibsp  parch   fare  embarked  class  \\\n",
      "0       False   False  False  False  False  False  False     False  False   \n",
      "1       False   False  False  False  False  False  False     False  False   \n",
      "2       False   False  False  False  False  False  False     False  False   \n",
      "3       False   False  False  False  False  False  False     False  False   \n",
      "4       False   False  False  False  False  False  False     False  False   \n",
      "..        ...     ...    ...    ...    ...    ...    ...       ...    ...   \n",
      "886     False   False  False  False  False  False  False     False  False   \n",
      "887     False   False  False  False  False  False  False     False  False   \n",
      "888     False   False  False   True  False  False  False     False  False   \n",
      "889     False   False  False  False  False  False  False     False  False   \n",
      "890     False   False  False  False  False  False  False     False  False   \n",
      "\n",
      "       who  adult_male   deck  embark_town  alive  alone  \n",
      "0    False       False   True        False  False  False  \n",
      "1    False       False  False        False  False  False  \n",
      "2    False       False   True        False  False  False  \n",
      "3    False       False  False        False  False  False  \n",
      "4    False       False   True        False  False  False  \n",
      "..     ...         ...    ...          ...    ...    ...  \n",
      "886  False       False   True        False  False  False  \n",
      "887  False       False  False        False  False  False  \n",
      "888  False       False   True        False  False  False  \n",
      "889  False       False  False        False  False  False  \n",
      "890  False       False   True        False  False  False  \n",
      "\n",
      "[891 rows x 15 columns]\n"
     ]
    }
   ],
   "source": [
    "import pandas as pd\n",
    "ratings = pd.read_csv('C:/titanic.csv', delimiter=',')\n",
    "print(ratings.isna())\n"
   ]
  },
  {
   "cell_type": "code",
   "execution_count": 1,
   "id": "d65a7d32",
   "metadata": {},
   "outputs": [
    {
     "name": "stdout",
     "output_type": "stream",
     "text": [
      "<class 'pandas.core.frame.DataFrame'>\n",
      "RangeIndex: 891 entries, 0 to 890\n",
      "Data columns (total 15 columns):\n",
      " #   Column       Non-Null Count  Dtype  \n",
      "---  ------       --------------  -----  \n",
      " 0   survived     891 non-null    int64  \n",
      " 1   pclass       891 non-null    int64  \n",
      " 2   sex          891 non-null    object \n",
      " 3   age          714 non-null    float64\n",
      " 4   sibsp        891 non-null    int64  \n",
      " 5   parch        891 non-null    int64  \n",
      " 6   fare         891 non-null    float64\n",
      " 7   embarked     889 non-null    object \n",
      " 8   class        891 non-null    object \n",
      " 9   who          891 non-null    object \n",
      " 10  adult_male   891 non-null    bool   \n",
      " 11  deck         203 non-null    object \n",
      " 12  embark_town  889 non-null    object \n",
      " 13  alive        891 non-null    object \n",
      " 14  alone        891 non-null    bool   \n",
      "dtypes: bool(2), float64(2), int64(4), object(7)\n",
      "memory usage: 92.4+ KB\n",
      "None\n"
     ]
    }
   ],
   "source": [
    "import pandas as pd\n",
    "ratings = pd.read_csv('C:/titanic.csv', delimiter=',')\n",
    "print(ratings.info())"
   ]
  },
  {
   "cell_type": "code",
   "execution_count": 2,
   "id": "df4e45ab",
   "metadata": {
    "scrolled": false
   },
   "outputs": [
    {
     "name": "stdout",
     "output_type": "stream",
     "text": [
      "<class 'pandas.core.frame.DataFrame'>\n",
      "RangeIndex: 891 entries, 0 to 890\n",
      "Data columns (total 15 columns):\n",
      " #   Column       Non-Null Count  Dtype  \n",
      "---  ------       --------------  -----  \n",
      " 0   survived     891 non-null    int64  \n",
      " 1   pclass       891 non-null    int64  \n",
      " 2   sex          891 non-null    object \n",
      " 3   age          714 non-null    float64\n",
      " 4   sibsp        891 non-null    int64  \n",
      " 5   parch        891 non-null    int64  \n",
      " 6   fare         891 non-null    float64\n",
      " 7   embarked     889 non-null    object \n",
      " 8   class        891 non-null    object \n",
      " 9   who          891 non-null    object \n",
      " 10  adult_male   891 non-null    bool   \n",
      " 11  deck         203 non-null    object \n",
      " 12  embark_town  889 non-null    object \n",
      " 13  alive        891 non-null    object \n",
      " 14  alone        891 non-null    bool   \n",
      "dtypes: bool(2), float64(2), int64(4), object(7)\n",
      "memory usage: 92.4+ KB\n"
     ]
    }
   ],
   "source": [
    "import pandas as pd\n",
    "ratings = pd.read_csv('C:/titanic.csv', delimiter=',')\n",
    "a = ratings.info()"
   ]
  },
  {
   "cell_type": "code",
   "execution_count": 4,
   "id": "0c709b4e",
   "metadata": {},
   "outputs": [
    {
     "name": "stdout",
     "output_type": "stream",
     "text": [
      "         survived      pclass         age       sibsp       parch        fare\n",
      "count  891.000000  891.000000  714.000000  891.000000  891.000000  891.000000\n",
      "mean     0.383838    2.308642   29.699118    0.523008    0.381594   32.204208\n",
      "std      0.486592    0.836071   14.526497    1.102743    0.806057   49.693429\n",
      "min      0.000000    1.000000    0.420000    0.000000    0.000000    0.000000\n",
      "25%      0.000000    2.000000   20.125000    0.000000    0.000000    7.910400\n",
      "50%      0.000000    3.000000   28.000000    0.000000    0.000000   14.454200\n",
      "75%      1.000000    3.000000   38.000000    1.000000    0.000000   31.000000\n",
      "max      1.000000    3.000000   80.000000    8.000000    6.000000  512.329200\n"
     ]
    }
   ],
   "source": [
    "import pandas as pd\n",
    "ratings = pd.read_csv('C:/titanic.csv', delimiter=',')\n",
    "print(ratings.describe())\n"
   ]
  },
  {
   "cell_type": "code",
   "execution_count": 5,
   "id": "6e2676eb",
   "metadata": {},
   "outputs": [
    {
     "name": "stdout",
     "output_type": "stream",
     "text": [
      "     survived  pclass     sex   age  sibsp  parch     fare embarked   class  \\\n",
      "0           0       3    male  22.0      1      0   7.2500        S   Third   \n",
      "1           1       1  female  38.0      1      0  71.2833        C   First   \n",
      "2           1       3  female  26.0      0      0   7.9250        S   Third   \n",
      "3           1       1  female  35.0      1      0  53.1000        S   First   \n",
      "4           0       3    male  35.0      0      0   8.0500        S   Third   \n",
      "..        ...     ...     ...   ...    ...    ...      ...      ...     ...   \n",
      "886         0       2    male  27.0      0      0  13.0000        S  Second   \n",
      "887         1       1  female  19.0      0      0  30.0000        S   First   \n",
      "888         0       3  female   NaN      1      2  23.4500        S   Third   \n",
      "889         1       1    male  26.0      0      0  30.0000        C   First   \n",
      "890         0       3    male  32.0      0      0   7.7500        Q   Third   \n",
      "\n",
      "       who  adult_male deck  embark_town alive  alone  \n",
      "0      man        True  NaN  Southampton    no  False  \n",
      "1    woman       False    C    Cherbourg   yes  False  \n",
      "2    woman       False  NaN  Southampton   yes   True  \n",
      "3    woman       False    C  Southampton   yes  False  \n",
      "4      man        True  NaN  Southampton    no   True  \n",
      "..     ...         ...  ...          ...   ...    ...  \n",
      "886    man        True  NaN  Southampton    no   True  \n",
      "887  woman       False    B  Southampton   yes   True  \n",
      "888  woman       False  NaN  Southampton    no  False  \n",
      "889    man        True    C    Cherbourg   yes   True  \n",
      "890    man        True  NaN   Queenstown    no   True  \n",
      "\n",
      "[891 rows x 15 columns]\n"
     ]
    }
   ],
   "source": [
    "import pandas as pd\n",
    "ratings = pd.read_csv('C:/titanic.csv', delimiter=',')\n",
    "print(ratings)"
   ]
  },
  {
   "cell_type": "code",
   "execution_count": 12,
   "id": "c599f208",
   "metadata": {},
   "outputs": [
    {
     "name": "stdout",
     "output_type": "stream",
     "text": [
      "0      0\n",
      "1      1\n",
      "2      1\n",
      "3      1\n",
      "4      0\n",
      "      ..\n",
      "886    0\n",
      "887    1\n",
      "888    0\n",
      "889    1\n",
      "890    0\n",
      "Name: survived, Length: 891, dtype: int64\n"
     ]
    }
   ],
   "source": [
    "import pandas as pd\n",
    "ratings = pd.read_csv('C:/titanic.csv', delimiter=',')\n",
    "print(ratings['survived'])"
   ]
  },
  {
   "cell_type": "code",
   "execution_count": 20,
   "id": "c5668ca9",
   "metadata": {
    "scrolled": true
   },
   "outputs": [
    {
     "name": "stdout",
     "output_type": "stream",
     "text": [
      "342\n"
     ]
    }
   ],
   "source": [
    "\n",
    "print(sum(ratings['survived']))# количество выживших"
   ]
  },
  {
   "cell_type": "code",
   "execution_count": 27,
   "id": "b11a1be9",
   "metadata": {},
   "outputs": [
    {
     "name": "stdout",
     "output_type": "stream",
     "text": [
      "577\n"
     ]
    }
   ],
   "source": [
    "\n",
    "male = sum(map(lambda x: x == 'male', ratings['sex']))# количество мужчин\n",
    "print(male)"
   ]
  },
  {
   "cell_type": "code",
   "execution_count": 54,
   "id": "595706cb",
   "metadata": {},
   "outputs": [
    {
     "name": "stdout",
     "output_type": "stream",
     "text": [
      "314\n"
     ]
    }
   ],
   "source": [
    "\n",
    "female = sum(map(lambda x: x != 'male', ratings['sex']))  # количество женщин\n",
    "print(female)"
   ]
  },
  {
   "cell_type": "code",
   "execution_count": 34,
   "id": "5e49cd48",
   "metadata": {},
   "outputs": [
    {
     "name": "stdout",
     "output_type": "stream",
     "text": [
      "891\n"
     ]
    }
   ],
   "source": [
    "people = len(ratings['survived']) # количество всего людей\n",
    "print(people)"
   ]
  },
  {
   "cell_type": "code",
   "execution_count": 63,
   "id": "2ee540cf",
   "metadata": {},
   "outputs": [
    {
     "name": "stdout",
     "output_type": "stream",
     "text": [
      "60.26936026936027\n"
     ]
    }
   ],
   "source": [
    "old_man = sum(map(lambda x: x == 'man', ratings['who']))\n",
    "print(old_man / people * 100) # процент взрослых мужчин"
   ]
  },
  {
   "cell_type": "code",
   "execution_count": 36,
   "id": "c4e07898",
   "metadata": {},
   "outputs": [
    {
     "name": "stdout",
     "output_type": "stream",
     "text": [
      "<class 'pandas.core.frame.DataFrame'>\n",
      "RangeIndex: 891 entries, 0 to 890\n",
      "Data columns (total 15 columns):\n",
      " #   Column       Non-Null Count  Dtype  \n",
      "---  ------       --------------  -----  \n",
      " 0   survived     891 non-null    int64  \n",
      " 1   pclass       891 non-null    int64  \n",
      " 2   sex          891 non-null    object \n",
      " 3   age          714 non-null    float64\n",
      " 4   sibsp        891 non-null    int64  \n",
      " 5   parch        891 non-null    int64  \n",
      " 6   fare         891 non-null    float64\n",
      " 7   embarked     889 non-null    object \n",
      " 8   class        891 non-null    object \n",
      " 9   who          891 non-null    object \n",
      " 10  adult_male   891 non-null    bool   \n",
      " 11  deck         203 non-null    object \n",
      " 12  embark_town  889 non-null    object \n",
      " 13  alive        891 non-null    object \n",
      " 14  alone        891 non-null    bool   \n",
      "dtypes: bool(2), float64(2), int64(4), object(7)\n",
      "memory usage: 92.4+ KB\n",
      "None\n"
     ]
    }
   ],
   "source": [
    "print(ratings.info())"
   ]
  },
  {
   "cell_type": "code",
   "execution_count": 92,
   "id": "4243d640",
   "metadata": {},
   "outputs": [
    {
     "name": "stdout",
     "output_type": "stream",
     "text": [
      "869\n"
     ]
    }
   ],
   "source": [
    "non = [891, 891, 891, 714, 891, 891, 891, 889, 891, 891, 891, 203, 889, 891, 891] # количество не пустых клеток для каждого столбца\n",
    "print(sum(map(lambda x: people -x, non))) # общее количество пустых клеток"
   ]
  },
  {
   "cell_type": "code",
   "execution_count": 55,
   "id": "388f5b9b",
   "metadata": {},
   "outputs": [
    {
     "name": "stdout",
     "output_type": "stream",
     "text": [
      "мужчин больше чем женщин\n"
     ]
    }
   ],
   "source": [
    "# а)\n",
    "if male > female:\n",
    "    print('мужчин больше чем женщин')\n",
    "elif male < female:\n",
    "    print('женщин больше чем мужчин')\n",
    "else:\n",
    "    print('мужчин столько же сколько женщин')"
   ]
  },
  {
   "cell_type": "code",
   "execution_count": 56,
   "id": "26375a95",
   "metadata": {},
   "outputs": [
    {
     "data": {
      "text/html": [
       "<div>\n",
       "<style scoped>\n",
       "    .dataframe tbody tr th:only-of-type {\n",
       "        vertical-align: middle;\n",
       "    }\n",
       "\n",
       "    .dataframe tbody tr th {\n",
       "        vertical-align: top;\n",
       "    }\n",
       "\n",
       "    .dataframe thead th {\n",
       "        text-align: right;\n",
       "    }\n",
       "</style>\n",
       "<table border=\"1\" class=\"dataframe\">\n",
       "  <thead>\n",
       "    <tr style=\"text-align: right;\">\n",
       "      <th></th>\n",
       "      <th>survived</th>\n",
       "      <th>pclass</th>\n",
       "      <th>age</th>\n",
       "      <th>sibsp</th>\n",
       "      <th>parch</th>\n",
       "      <th>fare</th>\n",
       "    </tr>\n",
       "  </thead>\n",
       "  <tbody>\n",
       "    <tr>\n",
       "      <th>count</th>\n",
       "      <td>891.000000</td>\n",
       "      <td>891.000000</td>\n",
       "      <td>714.000000</td>\n",
       "      <td>891.000000</td>\n",
       "      <td>891.000000</td>\n",
       "      <td>891.000000</td>\n",
       "    </tr>\n",
       "    <tr>\n",
       "      <th>mean</th>\n",
       "      <td>0.383838</td>\n",
       "      <td>2.308642</td>\n",
       "      <td>29.699118</td>\n",
       "      <td>0.523008</td>\n",
       "      <td>0.381594</td>\n",
       "      <td>32.204208</td>\n",
       "    </tr>\n",
       "    <tr>\n",
       "      <th>std</th>\n",
       "      <td>0.486592</td>\n",
       "      <td>0.836071</td>\n",
       "      <td>14.526497</td>\n",
       "      <td>1.102743</td>\n",
       "      <td>0.806057</td>\n",
       "      <td>49.693429</td>\n",
       "    </tr>\n",
       "    <tr>\n",
       "      <th>min</th>\n",
       "      <td>0.000000</td>\n",
       "      <td>1.000000</td>\n",
       "      <td>0.420000</td>\n",
       "      <td>0.000000</td>\n",
       "      <td>0.000000</td>\n",
       "      <td>0.000000</td>\n",
       "    </tr>\n",
       "    <tr>\n",
       "      <th>25%</th>\n",
       "      <td>0.000000</td>\n",
       "      <td>2.000000</td>\n",
       "      <td>20.125000</td>\n",
       "      <td>0.000000</td>\n",
       "      <td>0.000000</td>\n",
       "      <td>7.910400</td>\n",
       "    </tr>\n",
       "    <tr>\n",
       "      <th>50%</th>\n",
       "      <td>0.000000</td>\n",
       "      <td>3.000000</td>\n",
       "      <td>28.000000</td>\n",
       "      <td>0.000000</td>\n",
       "      <td>0.000000</td>\n",
       "      <td>14.454200</td>\n",
       "    </tr>\n",
       "    <tr>\n",
       "      <th>75%</th>\n",
       "      <td>1.000000</td>\n",
       "      <td>3.000000</td>\n",
       "      <td>38.000000</td>\n",
       "      <td>1.000000</td>\n",
       "      <td>0.000000</td>\n",
       "      <td>31.000000</td>\n",
       "    </tr>\n",
       "    <tr>\n",
       "      <th>max</th>\n",
       "      <td>1.000000</td>\n",
       "      <td>3.000000</td>\n",
       "      <td>80.000000</td>\n",
       "      <td>8.000000</td>\n",
       "      <td>6.000000</td>\n",
       "      <td>512.329200</td>\n",
       "    </tr>\n",
       "  </tbody>\n",
       "</table>\n",
       "</div>"
      ],
      "text/plain": [
       "         survived      pclass         age       sibsp       parch        fare\n",
       "count  891.000000  891.000000  714.000000  891.000000  891.000000  891.000000\n",
       "mean     0.383838    2.308642   29.699118    0.523008    0.381594   32.204208\n",
       "std      0.486592    0.836071   14.526497    1.102743    0.806057   49.693429\n",
       "min      0.000000    1.000000    0.420000    0.000000    0.000000    0.000000\n",
       "25%      0.000000    2.000000   20.125000    0.000000    0.000000    7.910400\n",
       "50%      0.000000    3.000000   28.000000    0.000000    0.000000   14.454200\n",
       "75%      1.000000    3.000000   38.000000    1.000000    0.000000   31.000000\n",
       "max      1.000000    3.000000   80.000000    8.000000    6.000000  512.329200"
      ]
     },
     "execution_count": 56,
     "metadata": {},
     "output_type": "execute_result"
    }
   ],
   "source": [
    "ratings.describe()"
   ]
  },
  {
   "cell_type": "markdown",
   "id": "e469e20c",
   "metadata": {},
   "source": [
    "выводы которые можно сделать\n",
    "\n",
    "минимальный возраст 0.42 года\n",
    "\n",
    "максимальный возраст 80 лет\n",
    "\n",
    "средний возраст 29.699118 лет\n",
    "\n",
    "пассажиры Титаника были достаточно молодыми\n",
    "\n",
    "177 человек неизвестен возраст"
   ]
  },
  {
   "cell_type": "markdown",
   "id": "017b2aa4",
   "metadata": {},
   "source": [
    "количество выжевшиз составило 342 человека"
   ]
  },
  {
   "cell_type": "code",
   "execution_count": 69,
   "id": "6e39f840",
   "metadata": {},
   "outputs": [
    {
     "name": "stdout",
     "output_type": "stream",
     "text": [
      "class 1: 216\n",
      "class 2: 184\n",
      "class 3: 491\n"
     ]
    }
   ],
   "source": [
    "sum_class = [0, 0, 0]\n",
    "for i in ratings['pclass']:\n",
    "    sum_class[int(i) - 1] += 1\n",
    "for i in range(3):\n",
    "    print(f'class {i + 1}: {sum_class[i]}')"
   ]
  },
  {
   "cell_type": "code",
   "execution_count": 74,
   "id": "062cdacb",
   "metadata": {
    "scrolled": true
   },
   "outputs": [
    {
     "name": "stdout",
     "output_type": "stream",
     "text": [
      "     survived  pclass     sex   age  sibsp  parch     fare embarked   class  \\\n",
      "1           1       1  female  38.0      1      0  71.2833        C   First   \n",
      "2           1       3  female  26.0      0      0   7.9250        S   Third   \n",
      "3           1       1  female  35.0      1      0  53.1000        S   First   \n",
      "8           1       3  female  27.0      0      2  11.1333        S   Third   \n",
      "9           1       2  female  14.0      1      0  30.0708        C  Second   \n",
      "..        ...     ...     ...   ...    ...    ...      ...      ...     ...   \n",
      "875         1       3  female  15.0      0      0   7.2250        C   Third   \n",
      "879         1       1  female  56.0      0      1  83.1583        C   First   \n",
      "880         1       2  female  25.0      0      1  26.0000        S  Second   \n",
      "887         1       1  female  19.0      0      0  30.0000        S   First   \n",
      "889         1       1    male  26.0      0      0  30.0000        C   First   \n",
      "\n",
      "       who  adult_male deck  embark_town alive  alone  \n",
      "1    woman       False    C    Cherbourg   yes  False  \n",
      "2    woman       False  NaN  Southampton   yes   True  \n",
      "3    woman       False    C  Southampton   yes  False  \n",
      "8    woman       False  NaN  Southampton   yes  False  \n",
      "9    child       False  NaN    Cherbourg   yes  False  \n",
      "..     ...         ...  ...          ...   ...    ...  \n",
      "875  child       False  NaN    Cherbourg   yes   True  \n",
      "879  woman       False    C    Cherbourg   yes  False  \n",
      "880  woman       False  NaN  Southampton   yes  False  \n",
      "887  woman       False    B  Southampton   yes   True  \n",
      "889    man        True    C    Cherbourg   yes   True  \n",
      "\n",
      "[342 rows x 15 columns]\n"
     ]
    }
   ],
   "source": [
    "survived_ratings = ratings[ratings['survived'] == 1]\n",
    "print(survived_ratings) # таблица в которой только выжевшие пассажиры\n"
   ]
  },
  {
   "cell_type": "markdown",
   "id": "51fde898",
   "metadata": {},
   "source": [
    "Вывод выжело 342 человека"
   ]
  },
  {
   "cell_type": "code",
   "execution_count": 88,
   "id": "9ed052d0",
   "metadata": {},
   "outputs": [
    {
     "name": "stdout",
     "output_type": "stream",
     "text": [
      "количество выживших мужчин: 109\n",
      "количество выжившых женщин: 233\n",
      "роцент взрослых выжившых мужчин 25.730994152046783\n"
     ]
    }
   ],
   "source": [
    "survived_people = len(survived_ratings['survived'])\n",
    "survived_male = sum(map(lambda x: x == 'male', survived_ratings['sex']))# количество выживших мужчин\n",
    "print('количество выживших мужчин:', survived_male)\n",
    "survived_female = sum(map(lambda x: x != 'male', survived_ratings['sex']))  # количество выжившых женщин\n",
    "print('количество выжившых женщин:', survived_female)\n",
    "survived_old_man = sum(map(lambda x: x == 'man', survived_ratings['who']))\n",
    "print('роцент взрослых выжившых мужчин', survived_old_man / survived_people * 100) # процент взрослых выжившых мужчин"
   ]
  },
  {
   "cell_type": "markdown",
   "id": "7ad978e0",
   "metadata": {},
   "source": [
    "Выводы взорслых мужчин выжило значительно меньше чем количество взорслых мужчин"
   ]
  },
  {
   "cell_type": "code",
   "execution_count": 79,
   "id": "4421057f",
   "metadata": {},
   "outputs": [
    {
     "data": {
      "text/html": [
       "<div>\n",
       "<style scoped>\n",
       "    .dataframe tbody tr th:only-of-type {\n",
       "        vertical-align: middle;\n",
       "    }\n",
       "\n",
       "    .dataframe tbody tr th {\n",
       "        vertical-align: top;\n",
       "    }\n",
       "\n",
       "    .dataframe thead th {\n",
       "        text-align: right;\n",
       "    }\n",
       "</style>\n",
       "<table border=\"1\" class=\"dataframe\">\n",
       "  <thead>\n",
       "    <tr style=\"text-align: right;\">\n",
       "      <th></th>\n",
       "      <th>survived</th>\n",
       "      <th>pclass</th>\n",
       "      <th>age</th>\n",
       "      <th>sibsp</th>\n",
       "      <th>parch</th>\n",
       "      <th>fare</th>\n",
       "    </tr>\n",
       "  </thead>\n",
       "  <tbody>\n",
       "    <tr>\n",
       "      <th>count</th>\n",
       "      <td>342.0</td>\n",
       "      <td>342.000000</td>\n",
       "      <td>290.000000</td>\n",
       "      <td>342.000000</td>\n",
       "      <td>342.000000</td>\n",
       "      <td>342.000000</td>\n",
       "    </tr>\n",
       "    <tr>\n",
       "      <th>mean</th>\n",
       "      <td>1.0</td>\n",
       "      <td>1.950292</td>\n",
       "      <td>28.343690</td>\n",
       "      <td>0.473684</td>\n",
       "      <td>0.464912</td>\n",
       "      <td>48.395408</td>\n",
       "    </tr>\n",
       "    <tr>\n",
       "      <th>std</th>\n",
       "      <td>0.0</td>\n",
       "      <td>0.863321</td>\n",
       "      <td>14.950952</td>\n",
       "      <td>0.708688</td>\n",
       "      <td>0.771712</td>\n",
       "      <td>66.596998</td>\n",
       "    </tr>\n",
       "    <tr>\n",
       "      <th>min</th>\n",
       "      <td>1.0</td>\n",
       "      <td>1.000000</td>\n",
       "      <td>0.420000</td>\n",
       "      <td>0.000000</td>\n",
       "      <td>0.000000</td>\n",
       "      <td>0.000000</td>\n",
       "    </tr>\n",
       "    <tr>\n",
       "      <th>25%</th>\n",
       "      <td>1.0</td>\n",
       "      <td>1.000000</td>\n",
       "      <td>19.000000</td>\n",
       "      <td>0.000000</td>\n",
       "      <td>0.000000</td>\n",
       "      <td>12.475000</td>\n",
       "    </tr>\n",
       "    <tr>\n",
       "      <th>50%</th>\n",
       "      <td>1.0</td>\n",
       "      <td>2.000000</td>\n",
       "      <td>28.000000</td>\n",
       "      <td>0.000000</td>\n",
       "      <td>0.000000</td>\n",
       "      <td>26.000000</td>\n",
       "    </tr>\n",
       "    <tr>\n",
       "      <th>75%</th>\n",
       "      <td>1.0</td>\n",
       "      <td>3.000000</td>\n",
       "      <td>36.000000</td>\n",
       "      <td>1.000000</td>\n",
       "      <td>1.000000</td>\n",
       "      <td>57.000000</td>\n",
       "    </tr>\n",
       "    <tr>\n",
       "      <th>max</th>\n",
       "      <td>1.0</td>\n",
       "      <td>3.000000</td>\n",
       "      <td>80.000000</td>\n",
       "      <td>4.000000</td>\n",
       "      <td>5.000000</td>\n",
       "      <td>512.329200</td>\n",
       "    </tr>\n",
       "  </tbody>\n",
       "</table>\n",
       "</div>"
      ],
      "text/plain": [
       "       survived      pclass         age       sibsp       parch        fare\n",
       "count     342.0  342.000000  290.000000  342.000000  342.000000  342.000000\n",
       "mean        1.0    1.950292   28.343690    0.473684    0.464912   48.395408\n",
       "std         0.0    0.863321   14.950952    0.708688    0.771712   66.596998\n",
       "min         1.0    1.000000    0.420000    0.000000    0.000000    0.000000\n",
       "25%         1.0    1.000000   19.000000    0.000000    0.000000   12.475000\n",
       "50%         1.0    2.000000   28.000000    0.000000    0.000000   26.000000\n",
       "75%         1.0    3.000000   36.000000    1.000000    1.000000   57.000000\n",
       "max         1.0    3.000000   80.000000    4.000000    5.000000  512.329200"
      ]
     },
     "execution_count": 79,
     "metadata": {},
     "output_type": "execute_result"
    }
   ],
   "source": [
    "survived_ratings.describe()"
   ]
  },
  {
   "cell_type": "code",
   "execution_count": 80,
   "id": "ec7d0971",
   "metadata": {},
   "outputs": [
    {
     "data": {
      "text/html": [
       "<div>\n",
       "<style scoped>\n",
       "    .dataframe tbody tr th:only-of-type {\n",
       "        vertical-align: middle;\n",
       "    }\n",
       "\n",
       "    .dataframe tbody tr th {\n",
       "        vertical-align: top;\n",
       "    }\n",
       "\n",
       "    .dataframe thead th {\n",
       "        text-align: right;\n",
       "    }\n",
       "</style>\n",
       "<table border=\"1\" class=\"dataframe\">\n",
       "  <thead>\n",
       "    <tr style=\"text-align: right;\">\n",
       "      <th></th>\n",
       "      <th>survived</th>\n",
       "      <th>pclass</th>\n",
       "      <th>age</th>\n",
       "      <th>sibsp</th>\n",
       "      <th>parch</th>\n",
       "      <th>fare</th>\n",
       "    </tr>\n",
       "  </thead>\n",
       "  <tbody>\n",
       "    <tr>\n",
       "      <th>count</th>\n",
       "      <td>891.000000</td>\n",
       "      <td>891.000000</td>\n",
       "      <td>714.000000</td>\n",
       "      <td>891.000000</td>\n",
       "      <td>891.000000</td>\n",
       "      <td>891.000000</td>\n",
       "    </tr>\n",
       "    <tr>\n",
       "      <th>mean</th>\n",
       "      <td>0.383838</td>\n",
       "      <td>2.308642</td>\n",
       "      <td>29.699118</td>\n",
       "      <td>0.523008</td>\n",
       "      <td>0.381594</td>\n",
       "      <td>32.204208</td>\n",
       "    </tr>\n",
       "    <tr>\n",
       "      <th>std</th>\n",
       "      <td>0.486592</td>\n",
       "      <td>0.836071</td>\n",
       "      <td>14.526497</td>\n",
       "      <td>1.102743</td>\n",
       "      <td>0.806057</td>\n",
       "      <td>49.693429</td>\n",
       "    </tr>\n",
       "    <tr>\n",
       "      <th>min</th>\n",
       "      <td>0.000000</td>\n",
       "      <td>1.000000</td>\n",
       "      <td>0.420000</td>\n",
       "      <td>0.000000</td>\n",
       "      <td>0.000000</td>\n",
       "      <td>0.000000</td>\n",
       "    </tr>\n",
       "    <tr>\n",
       "      <th>25%</th>\n",
       "      <td>0.000000</td>\n",
       "      <td>2.000000</td>\n",
       "      <td>20.125000</td>\n",
       "      <td>0.000000</td>\n",
       "      <td>0.000000</td>\n",
       "      <td>7.910400</td>\n",
       "    </tr>\n",
       "    <tr>\n",
       "      <th>50%</th>\n",
       "      <td>0.000000</td>\n",
       "      <td>3.000000</td>\n",
       "      <td>28.000000</td>\n",
       "      <td>0.000000</td>\n",
       "      <td>0.000000</td>\n",
       "      <td>14.454200</td>\n",
       "    </tr>\n",
       "    <tr>\n",
       "      <th>75%</th>\n",
       "      <td>1.000000</td>\n",
       "      <td>3.000000</td>\n",
       "      <td>38.000000</td>\n",
       "      <td>1.000000</td>\n",
       "      <td>0.000000</td>\n",
       "      <td>31.000000</td>\n",
       "    </tr>\n",
       "    <tr>\n",
       "      <th>max</th>\n",
       "      <td>1.000000</td>\n",
       "      <td>3.000000</td>\n",
       "      <td>80.000000</td>\n",
       "      <td>8.000000</td>\n",
       "      <td>6.000000</td>\n",
       "      <td>512.329200</td>\n",
       "    </tr>\n",
       "  </tbody>\n",
       "</table>\n",
       "</div>"
      ],
      "text/plain": [
       "         survived      pclass         age       sibsp       parch        fare\n",
       "count  891.000000  891.000000  714.000000  891.000000  891.000000  891.000000\n",
       "mean     0.383838    2.308642   29.699118    0.523008    0.381594   32.204208\n",
       "std      0.486592    0.836071   14.526497    1.102743    0.806057   49.693429\n",
       "min      0.000000    1.000000    0.420000    0.000000    0.000000    0.000000\n",
       "25%      0.000000    2.000000   20.125000    0.000000    0.000000    7.910400\n",
       "50%      0.000000    3.000000   28.000000    0.000000    0.000000   14.454200\n",
       "75%      1.000000    3.000000   38.000000    1.000000    0.000000   31.000000\n",
       "max      1.000000    3.000000   80.000000    8.000000    6.000000  512.329200"
      ]
     },
     "execution_count": 80,
     "metadata": {},
     "output_type": "execute_result"
    }
   ],
   "source": [
    "ratings.describe()"
   ]
  },
  {
   "cell_type": "code",
   "execution_count": 81,
   "id": "aca3d1ff",
   "metadata": {},
   "outputs": [
    {
     "name": "stdout",
     "output_type": "stream",
     "text": [
      "<class 'pandas.core.frame.DataFrame'>\n",
      "Int64Index: 342 entries, 1 to 889\n",
      "Data columns (total 15 columns):\n",
      " #   Column       Non-Null Count  Dtype  \n",
      "---  ------       --------------  -----  \n",
      " 0   survived     342 non-null    int64  \n",
      " 1   pclass       342 non-null    int64  \n",
      " 2   sex          342 non-null    object \n",
      " 3   age          290 non-null    float64\n",
      " 4   sibsp        342 non-null    int64  \n",
      " 5   parch        342 non-null    int64  \n",
      " 6   fare         342 non-null    float64\n",
      " 7   embarked     340 non-null    object \n",
      " 8   class        342 non-null    object \n",
      " 9   who          342 non-null    object \n",
      " 10  adult_male   342 non-null    bool   \n",
      " 11  deck         136 non-null    object \n",
      " 12  embark_town  340 non-null    object \n",
      " 13  alive        342 non-null    object \n",
      " 14  alone        342 non-null    bool   \n",
      "dtypes: bool(2), float64(2), int64(4), object(7)\n",
      "memory usage: 38.1+ KB\n"
     ]
    }
   ],
   "source": [
    "survived_ratings.info()"
   ]
  },
  {
   "cell_type": "code",
   "execution_count": 91,
   "id": "8d01fca0",
   "metadata": {},
   "outputs": [
    {
     "name": "stdout",
     "output_type": "stream",
     "text": [
      "общее количество пустых клеток среди выживших пассажиров: 262\n"
     ]
    }
   ],
   "source": [
    "survived_non = [342, 342, 342, 290, 342, 342, 342, 340, 342, 342, 342, 136, 340, 342, 342] # количество не пустых клеток для каждого столбца\n",
    "print('общее количество пустых клеток среди выживших пассажиров:', sum(map(lambda x: survived_people -x, survived_non))) # общее количество пустых клеток"
   ]
  },
  {
   "cell_type": "markdown",
   "id": "78b27f1a",
   "metadata": {},
   "source": [
    "Пустые клетки есть в столбцах с названиями: age, embarked, deck, embark_town"
   ]
  },
  {
   "cell_type": "markdown",
   "id": "746e82cd",
   "metadata": {},
   "source": [
    "Неизвестные значения в стоблце age я заменю на среднее значение что бы не сильно поменять среднее значение возраста и максимальный и минимальный возраст\n",
    "в столбце embarked замени пустые клетки на значение котрое больше всего появляется в этом столбце S, \n",
    "\n",
    "в столбце deck заменим на значение котрое больше всего появляется в этом столбце nan \n",
    "embark_town пустые клетки заменем на S"
   ]
  },
  {
   "cell_type": "code",
   "execution_count": 100,
   "id": "4a3c4ff4",
   "metadata": {},
   "outputs": [
    {
     "name": "stdout",
     "output_type": "stream",
     "text": [
      "nan: 688\n",
      "C: 59\n",
      "E: 32\n",
      "G: 4\n",
      "D: 33\n",
      "A: 15\n",
      "B: 47\n",
      "F: 13\n",
      "Наиболее частое значение в столбце deck: nan\n"
     ]
    }
   ],
   "source": [
    "counts = dict()\n",
    "for i in ratings['deck']:\n",
    "    counts[i] = counts.get(i, 0) + 1\n",
    "    start = i\n",
    "max_name = start\n",
    "for i in counts:\n",
    "    print(f'{i}: {counts[i]}')\n",
    "    if counts[max_name] < counts[i]:\n",
    "        max_name = i\n",
    "print(f'Наиболее частое значение в столбце deck: {max_name}')\n"
   ]
  },
  {
   "cell_type": "code",
   "execution_count": 102,
   "id": "400ac695",
   "metadata": {},
   "outputs": [
    {
     "name": "stdout",
     "output_type": "stream",
     "text": [
      "Southampton: 644\n",
      "Cherbourg: 168\n",
      "Queenstown: 77\n",
      "nan: 2\n",
      "Наиболее частое значение в столбце embark_town: Southampton\n"
     ]
    }
   ],
   "source": [
    "counts = dict()\n",
    "for i in ratings['embark_town']:\n",
    "    counts[i] = counts.get(i, 0) + 1\n",
    "    start = i\n",
    "max_name = start\n",
    "for i in counts:\n",
    "    print(f'{i}: {counts[i]}')\n",
    "    if counts[max_name] < counts[i]:\n",
    "        max_name = i\n",
    "print(f'Наиболее частое значение в столбце embark_town: {max_name}')"
   ]
  },
  {
   "cell_type": "code",
   "execution_count": 103,
   "id": "0d66c83e",
   "metadata": {},
   "outputs": [
    {
     "name": "stdout",
     "output_type": "stream",
     "text": [
      "S: 644\n",
      "C: 168\n",
      "Q: 77\n",
      "nan: 2\n",
      "Наиболее частое значение в столбце embarked: S\n"
     ]
    }
   ],
   "source": [
    "counts = dict()\n",
    "for i in ratings['embarked']:\n",
    "    counts[i] = counts.get(i, 0) + 1\n",
    "    start = i\n",
    "max_name = start\n",
    "for i in counts:\n",
    "    print(f'{i}: {counts[i]}')\n",
    "    if counts[max_name] < counts[i]:\n",
    "        max_name = i\n",
    "print(f'Наиболее частое значение в столбце embarked: {max_name}')"
   ]
  },
  {
   "cell_type": "code",
   "execution_count": 105,
   "id": "82f15197",
   "metadata": {},
   "outputs": [
    {
     "name": "stdout",
     "output_type": "stream",
     "text": [
      "     survived  pclass     sex   age  sibsp  parch     fare embarked   class  \\\n",
      "0           0       3    male  22.0      1      0   7.2500        S   Third   \n",
      "1           1       1  female  38.0      1      0  71.2833        C   First   \n",
      "2           1       3  female  26.0      0      0   7.9250        S   Third   \n",
      "3           1       1  female  35.0      1      0  53.1000        S   First   \n",
      "4           0       3    male  35.0      0      0   8.0500        S   Third   \n",
      "..        ...     ...     ...   ...    ...    ...      ...      ...     ...   \n",
      "886         0       2    male  27.0      0      0  13.0000        S  Second   \n",
      "887         1       1  female  19.0      0      0  30.0000        S   First   \n",
      "888         0       3  female   NaN      1      2  23.4500        S   Third   \n",
      "889         1       1    male  26.0      0      0  30.0000        C   First   \n",
      "890         0       3    male  32.0      0      0   7.7500        Q   Third   \n",
      "\n",
      "       who  adult_male deck  embark_town alive  alone  \n",
      "0      man        True  NaN  Southampton    no  False  \n",
      "1    woman       False    C    Cherbourg   yes  False  \n",
      "2    woman       False  NaN  Southampton   yes   True  \n",
      "3    woman       False    C  Southampton   yes  False  \n",
      "4      man        True  NaN  Southampton    no   True  \n",
      "..     ...         ...  ...          ...   ...    ...  \n",
      "886    man        True  NaN  Southampton    no   True  \n",
      "887  woman       False    B  Southampton   yes   True  \n",
      "888  woman       False  NaN  Southampton    no  False  \n",
      "889    man        True    C    Cherbourg   yes   True  \n",
      "890    man        True  NaN   Queenstown    no   True  \n",
      "\n",
      "[891 rows x 15 columns]\n"
     ]
    }
   ],
   "source": [
    "ratings['age'].fillna(29.699118)\n",
    "ratings['deck'].fillna('nan')\n",
    "ratings['embark_town'].fillna('Southampton')\n",
    "ratings['embarked'].fillna('S')\n",
    "print(ratings)\n"
   ]
  },
  {
   "cell_type": "code",
   "execution_count": null,
   "id": "ef989bbc",
   "metadata": {},
   "outputs": [],
   "source": []
  }
 ],
 "metadata": {
  "kernelspec": {
   "display_name": "Python 3 (ipykernel)",
   "language": "python",
   "name": "python3"
  },
  "language_info": {
   "codemirror_mode": {
    "name": "ipython",
    "version": 3
   },
   "file_extension": ".py",
   "mimetype": "text/x-python",
   "name": "python",
   "nbconvert_exporter": "python",
   "pygments_lexer": "ipython3",
   "version": "3.10.2"
  }
 },
 "nbformat": 4,
 "nbformat_minor": 5
}
